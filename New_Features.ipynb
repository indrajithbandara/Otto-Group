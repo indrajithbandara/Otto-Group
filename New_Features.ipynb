{
 "metadata": {
  "name": "",
  "signature": "sha256:7a4f6348118608b48221e21d928eff192258555c277b61a68540af13f836a9c8"
 },
 "nbformat": 3,
 "nbformat_minor": 0,
 "worksheets": [
  {
   "cells": [
    {
     "cell_type": "code",
     "collapsed": false,
     "input": [
      "# Import libraries\n",
      "import pandas as pd\n",
      "import numpy as np\n",
      "\n",
      "#tell pandas to display wide tables as pretty HTML tables\n",
      "pd.set_option('display.width', 500)\n",
      "pd.set_option('display.max_columns', 20)\n",
      "\n",
      "import matplotlib.pyplot as plt\n",
      "\n",
      "def remove_border(axes=None, top=False, right=False, left=True, bottom=True):\n",
      "    \"\"\"\n",
      "    Minimize chartjunk by stripping out unnecesasry plot borders and axis ticks\n",
      "    \n",
      "    The top/right/left/bottom keywords toggle whether the corresponding plot border is drawn\n",
      "    \"\"\"\n",
      "    ax = axes or plt.gca()\n",
      "    ax.spines['top'].set_visible(top)\n",
      "    ax.spines['right'].set_visible(right)\n",
      "    ax.spines['left'].set_visible(left)\n",
      "    ax.spines['bottom'].set_visible(bottom)\n",
      "    \n",
      "    #turn off all ticks\n",
      "    ax.yaxis.set_ticks_position('none')\n",
      "    ax.xaxis.set_ticks_position('none')\n",
      "    \n",
      "    #now re-enable visibles\n",
      "    if top:\n",
      "        ax.xaxis.tick_top()\n",
      "    if bottom:\n",
      "        ax.xaxis.tick_bottom()\n",
      "    if left:\n",
      "        ax.yaxis.tick_left()\n",
      "    if right:\n",
      "        ax.yaxis.tick_right()"
     ],
     "language": "python",
     "metadata": {},
     "outputs": [],
     "prompt_number": 129
    },
    {
     "cell_type": "code",
     "collapsed": false,
     "input": [
      "otto_train = pd.read_csv('./train.csv/train.csv', index_col='id')"
     ],
     "language": "python",
     "metadata": {},
     "outputs": [],
     "prompt_number": 130
    },
    {
     "cell_type": "code",
     "collapsed": false,
     "input": [
      "# lets take a stratified shuffle split\n",
      "from sklearn.cross_validation import StratifiedShuffleSplit\n",
      "def sss(Y):\n",
      "    \"Returns a Stratified Shuffle Split\"\n",
      "    sss = StratifiedShuffleSplit(Y, 3, train_size=1000, random_state=0)\n",
      "    train_index, test_index = next(iter(sss))\n",
      "    return train_index"
     ],
     "language": "python",
     "metadata": {},
     "outputs": [],
     "prompt_number": 131
    },
    {
     "cell_type": "code",
     "collapsed": false,
     "input": [
      "# encode our labels\n",
      "from sklearn.preprocessing import LabelEncoder\n",
      "def encode(Y):\n",
      "    lbl_encoder = LabelEncoder()\n",
      "    return lbl_encoder.fit_transform(Y)"
     ],
     "language": "python",
     "metadata": {},
     "outputs": [],
     "prompt_number": 132
    },
    {
     "cell_type": "code",
     "collapsed": false,
     "input": [
      "Y = encode(otto_train.target)\n",
      "otto_train = otto_train.drop('target', axis=1)"
     ],
     "language": "python",
     "metadata": {},
     "outputs": [],
     "prompt_number": 133
    },
    {
     "cell_type": "code",
     "collapsed": false,
     "input": [
      "print otto_train.shape, Y.shape"
     ],
     "language": "python",
     "metadata": {},
     "outputs": [
      {
       "output_type": "stream",
       "stream": "stdout",
       "text": [
        "(61878, 93) (61878,)\n"
       ]
      }
     ],
     "prompt_number": 134
    },
    {
     "cell_type": "code",
     "collapsed": false,
     "input": [
      "train_index = sss(Y)"
     ],
     "language": "python",
     "metadata": {},
     "outputs": [],
     "prompt_number": 135
    },
    {
     "cell_type": "code",
     "collapsed": false,
     "input": [
      "otto_train_sample = otto_train.iloc[train_index]\n",
      "Y_sample = Y[train_index]"
     ],
     "language": "python",
     "metadata": {},
     "outputs": [],
     "prompt_number": 136
    },
    {
     "cell_type": "code",
     "collapsed": false,
     "input": [
      "print otto_train_sample.shape, Y_sample.shape"
     ],
     "language": "python",
     "metadata": {},
     "outputs": [
      {
       "output_type": "stream",
       "stream": "stdout",
       "text": [
        "(1000, 93) (1000,)\n"
       ]
      }
     ],
     "prompt_number": 137
    },
    {
     "cell_type": "code",
     "collapsed": false,
     "input": [
      "# lets see the class distribution\n",
      "pd.Series(Y_sample).value_counts()"
     ],
     "language": "python",
     "metadata": {},
     "outputs": [
      {
       "metadata": {},
       "output_type": "pyout",
       "prompt_number": 138,
       "text": [
        "1    261\n",
        "5    228\n",
        "7    137\n",
        "2    129\n",
        "8     80\n",
        "6     47\n",
        "4     44\n",
        "3     43\n",
        "0     31\n",
        "dtype: int64"
       ]
      }
     ],
     "prompt_number": 138
    },
    {
     "cell_type": "code",
     "collapsed": false,
     "input": [
      "# lets plot to see how the class boundaries look\n",
      "from sklearn.decomposition import RandomizedPCA\n",
      "\n",
      "pca = RandomizedPCA(n_components=2)\n",
      "X_pca = pca.fit_transform(otto_train_sample)\n",
      "\n",
      "X_pca.shape"
     ],
     "language": "python",
     "metadata": {},
     "outputs": [
      {
       "metadata": {},
       "output_type": "pyout",
       "prompt_number": 139,
       "text": [
        "(1000, 2)"
       ]
      }
     ],
     "prompt_number": 139
    },
    {
     "cell_type": "code",
     "collapsed": false,
     "input": [
      "from itertools import cycle\n",
      "\n",
      "colors = ['b', 'g', 'r', 'c', 'm', 'y', 'k', 'black', 'pink']\n",
      "markers = ['+', 'o', '^', 'v', '<', '>', 'D', 'h', 's']\n",
      "\n",
      "plt.figure(figsize=(15, 10))\n",
      "for i, c, m in zip(np.unique(Y_sample), cycle(colors), cycle(markers)):\n",
      "    plt.scatter(X_pca[Y_sample == i, 0], X_pca[Y_sample == i, 1],\n",
      "                c=c, marker=m, label=i, alpha=0.5)\n",
      "\n",
      "_ = plt.legend(loc='best')\n",
      "remove_border();"
     ],
     "language": "python",
     "metadata": {},
     "outputs": [
      {
       "metadata": {},
       "output_type": "display_data",
       "png": "[encoded data removed]",
       "text": [
        "<matplotlib.figure.Figure at 0x90789b0>"
       ]
      }
     ],
     "prompt_number": 140
    },
    {
     "cell_type": "code",
     "collapsed": false,
     "input": [
      "# now the examples are not very well separated although Class_6 is separated at the top and Class 8 is also well separated\n",
      "# but rest are all grouped at the same place"
     ],
     "language": "python",
     "metadata": {},
     "outputs": [],
     "prompt_number": 141
    },
    {
     "cell_type": "code",
     "collapsed": false,
     "input": [
      "from collections import defaultdict\n",
      "\n",
      "def count_non_zero_values(df, Y):\n",
      "    count_non_zeros_in_class = defaultdict(int)\n",
      "    idx = 0\n",
      "    for row in df.values:\n",
      "        count_non_zero = 0\n",
      "        for col in row:\n",
      "            if col != 0: count_non_zero += 1\n",
      "        \n",
      "        count_non_zeros_in_class[Y[idx]] += count_non_zero\n",
      "        idx += 1\n",
      "    return count_non_zeros_in_class\n",
      "\n",
      "def count_zero_values(df, Y):\n",
      "    count_zeros_in_class = defaultdict(int)\n",
      "    idx = 0\n",
      "    for row in df.values:\n",
      "        count_zero = 0\n",
      "        for col in row:\n",
      "            if col == 0: count_zero += 1\n",
      "        \n",
      "        count_zeros_in_class[Y[idx]] += count_zero\n",
      "        idx += 1\n",
      "    return count_zeros_in_class"
     ],
     "language": "python",
     "metadata": {},
     "outputs": [],
     "prompt_number": 142
    },
    {
     "cell_type": "code",
     "collapsed": false,
     "input": [
      "count_non_zeros_in_class = count_non_zero_values(otto_train_sample, Y_sample)"
     ],
     "language": "python",
     "metadata": {},
     "outputs": [],
     "prompt_number": 143
    },
    {
     "cell_type": "code",
     "collapsed": false,
     "input": [
      "for key, val in count_non_zeros_in_class.iteritems():\n",
      "    print 'Number of non_zero_values in class %s are %d' %(key, val)"
     ],
     "language": "python",
     "metadata": {},
     "outputs": [
      {
       "output_type": "stream",
       "stream": "stdout",
       "text": [
        "Number of non_zero_values in class 0 are 675\n",
        "Number of non_zero_values in class 1 are 3790\n",
        "Number of non_zero_values in class 2 are 2025\n",
        "Number of non_zero_values in class 3 are 686\n",
        "Number of non_zero_values in class 4 are 427\n",
        "Number of non_zero_values in class 5 are 5301\n",
        "Number of non_zero_values in class 6 are 1098\n",
        "Number of non_zero_values in class 7 are 3298\n",
        "Number of non_zero_values in class 8 are 1740\n"
       ]
      }
     ],
     "prompt_number": 144
    },
    {
     "cell_type": "code",
     "collapsed": false,
     "input": [
      "count_zeros_in_class = count_zero_values(otto_train_sample, Y_sample)"
     ],
     "language": "python",
     "metadata": {},
     "outputs": [],
     "prompt_number": 145
    },
    {
     "cell_type": "code",
     "collapsed": false,
     "input": [
      "for key, val in count_zeros_in_class.iteritems():\n",
      "    print 'Number of  zeros in class %s are %d' %(key, val)"
     ],
     "language": "python",
     "metadata": {},
     "outputs": [
      {
       "output_type": "stream",
       "stream": "stdout",
       "text": [
        "Number of  zeros in class 0 are 2208\n",
        "Number of  zeros in class 1 are 20483\n",
        "Number of  zeros in class 2 are 9972\n",
        "Number of  zeros in class 3 are 3313\n",
        "Number of  zeros in class 4 are 3665\n",
        "Number of  zeros in class 5 are 15903\n",
        "Number of  zeros in class 6 are 3273\n",
        "Number of  zeros in class 7 are 9443\n",
        "Number of  zeros in class 8 are 5700\n"
       ]
      }
     ],
     "prompt_number": 146
    },
    {
     "cell_type": "code",
     "collapsed": false,
     "input": [
      "def f(x):\n",
      "    return list(x).count(0)\n",
      "otto_train_sample['n_zeros'] = otto_train_sample.apply(f, axis=1)"
     ],
     "language": "python",
     "metadata": {},
     "outputs": [],
     "prompt_number": 147
    },
    {
     "cell_type": "code",
     "collapsed": false,
     "input": [
      "# lets plot the relationship of number of zeros with labels\n",
      "plt.scatter(otto_train_sample.n_zeros, Y_sample)\n",
      "remove_border();"
     ],
     "language": "python",
     "metadata": {},
     "outputs": [
      {
       "metadata": {},
       "output_type": "display_data",
       "png": "[encoded data removed]",
       "text": [
        "<matplotlib.figure.Figure at 0x142e650>"
       ]
      }
     ],
     "prompt_number": 148
    },
    {
     "cell_type": "code",
     "collapsed": false,
     "input": [
      "print otto_train_sample.shape"
     ],
     "language": "python",
     "metadata": {},
     "outputs": [
      {
       "output_type": "stream",
       "stream": "stdout",
       "text": [
        "(1000, 94)\n"
       ]
      }
     ],
     "prompt_number": 149
    },
    {
     "cell_type": "code",
     "collapsed": false,
     "input": [
      "# lets standardize\n",
      "from sklearn.preprocessing import StandardScaler\n",
      "\n",
      "stand_scaler = StandardScaler()\n",
      "otto_train_sample_scaled = stand_scaler.fit_transform(otto_train_sample.astype(float64))\n"
     ],
     "language": "python",
     "metadata": {},
     "outputs": [],
     "prompt_number": 150
    },
    {
     "cell_type": "code",
     "collapsed": false,
     "input": [
      "# lets train a support vector machine\n",
      "from sklearn.cross_validation import train_test_split"
     ],
     "language": "python",
     "metadata": {},
     "outputs": [],
     "prompt_number": 151
    },
    {
     "cell_type": "code",
     "collapsed": false,
     "input": [
      "X_train, X_test, y_train, y_test = train_test_split(otto_train_sample_scaled, Y_sample, test_size=0.2, random_state=0)"
     ],
     "language": "python",
     "metadata": {},
     "outputs": [],
     "prompt_number": 152
    },
    {
     "cell_type": "code",
     "collapsed": false,
     "input": [
      "from sklearn.cross_validation import cross_val_score\n",
      "from sklearn.svm import SVC\n",
      "\n",
      "svc = SVC(C=1.0, gamma=0.01, probability=True)\n",
      "scores = cross_val_score(svc, X_train, y_train, cv=5, scoring='log_loss')"
     ],
     "language": "python",
     "metadata": {},
     "outputs": [],
     "prompt_number": 153
    },
    {
     "cell_type": "code",
     "collapsed": false,
     "input": [
      "print 'Min score %.5f, Mean score %.5f and max score %.5f ' % (scores.min(), scores.mean(), scores.max())"
     ],
     "language": "python",
     "metadata": {},
     "outputs": [
      {
       "output_type": "stream",
       "stream": "stdout",
       "text": [
        "Min score -1.03926, Mean score -0.92198 and max score -0.74543 \n"
       ]
      }
     ],
     "prompt_number": 154
    },
    {
     "cell_type": "code",
     "collapsed": false,
     "input": [
      "svc.fit(X_train, y_train)"
     ],
     "language": "python",
     "metadata": {},
     "outputs": [
      {
       "metadata": {},
       "output_type": "pyout",
       "prompt_number": 155,
       "text": [
        "SVC(C=1.0, cache_size=200, class_weight=None, coef0=0.0, degree=3, gamma=0.01,\n",
        "  kernel='rbf', max_iter=-1, probability=True, random_state=None,\n",
        "  shrinking=True, tol=0.001, verbose=False)"
       ]
      }
     ],
     "prompt_number": 155
    },
    {
     "cell_type": "code",
     "collapsed": false,
     "input": [
      "# lets see its performance on the unseen data\n",
      "from sklearn.metrics import log_loss\n",
      "print log_loss(y_test, svc.predict_proba(X_test))"
     ],
     "language": "python",
     "metadata": {},
     "outputs": [
      {
       "output_type": "stream",
       "stream": "stdout",
       "text": [
        "0.745857432427\n"
       ]
      }
     ],
     "prompt_number": 156
    },
    {
     "cell_type": "code",
     "collapsed": false,
     "input": [],
     "language": "python",
     "metadata": {},
     "outputs": []
    }
   ],
   "metadata": {}
  }
 ]
}