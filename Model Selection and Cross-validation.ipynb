{
 "cells": [
  {
   "cell_type": "code",
   "execution_count": 2,
   "metadata": {
    "collapsed": true
   },
   "outputs": [],
   "source": [
    "import pandas as pd\n",
    "import numpy as np\n",
    "import seaborn as sns\n",
    "import matplotlib.pyplot as plt\n",
    "%matplotlib inline"
   ]
  },
  {
   "cell_type": "code",
   "execution_count": 33,
   "metadata": {
    "collapsed": true
   },
   "outputs": [],
   "source": [
    "%run scripts/helper.py"
   ]
  },
  {
   "cell_type": "code",
   "execution_count": 4,
   "metadata": {
    "collapsed": false
   },
   "outputs": [
    {
     "data": {
      "text/plain": [
       "(61878, 94)"
      ]
     },
     "execution_count": 4,
     "metadata": {},
     "output_type": "execute_result"
    }
   ],
   "source": [
    "otto_train = load_csv('./train.csv/train.csv', 'id'); otto_train.shape"
   ]
  },
  {
   "cell_type": "code",
   "execution_count": 5,
   "metadata": {
    "collapsed": true
   },
   "outputs": [],
   "source": [
    "otto_X = otto_train[otto_train.columns[:-1]]\n",
    "otto_Y = otto_train.target"
   ]
  },
  {
   "cell_type": "code",
   "execution_count": 55,
   "metadata": {
    "collapsed": false
   },
   "outputs": [],
   "source": [
    "otto_X_small, otto_Y_small = get_smaller_dataset(otto_X, otto_Y, 1500)"
   ]
  },
  {
   "cell_type": "code",
   "execution_count": 56,
   "metadata": {
    "collapsed": false
   },
   "outputs": [
    {
     "data": {
      "text/plain": [
       "((1500, 93), (1500,))"
      ]
     },
     "execution_count": 56,
     "metadata": {},
     "output_type": "execute_result"
    }
   ],
   "source": [
    "otto_X_small.shape, otto_Y_small.shape"
   ]
  },
  {
   "cell_type": "markdown",
   "metadata": {},
   "source": [
    "### Support Vector Machines"
   ]
  },
  {
   "cell_type": "code",
   "execution_count": 7,
   "metadata": {
    "collapsed": true
   },
   "outputs": [],
   "source": [
    "from sklearn.svm import SVC"
   ]
  },
  {
   "cell_type": "code",
   "execution_count": 8,
   "metadata": {
    "collapsed": false
   },
   "outputs": [],
   "source": [
    "model = SVC(probability=True).fit(otto_X_small.values, otto_Y_small.values)"
   ]
  },
  {
   "cell_type": "code",
   "execution_count": 9,
   "metadata": {
    "collapsed": false
   },
   "outputs": [
    {
     "name": "stdout",
     "output_type": "stream",
     "text": [
      "Log loss score on the training set is 0.367880\n"
     ]
    }
   ],
   "source": [
    "from sklearn.metrics import log_loss\n",
    "print 'Log loss score on the training set is %f' %(log_loss(otto_Y_small, model.predict_proba(otto_X_small)))"
   ]
  },
  {
   "cell_type": "markdown",
   "metadata": {},
   "source": [
    "#### This is the training set log loss score we obtain when we feed the attributes as such without any preprocessing and parameter-tuning"
   ]
  },
  {
   "cell_type": "code",
   "execution_count": 10,
   "metadata": {
    "collapsed": true
   },
   "outputs": [],
   "source": [
    "# lets implement basic cross-validation\n",
    "from sklearn.cross_validation import train_test_split\n",
    "\n",
    "X_train, X_test, y_train, y_test = train_test_split(\n",
    "        otto_X_small, otto_Y_small, test_size=0.2, random_state=12)"
   ]
  },
  {
   "cell_type": "code",
   "execution_count": 11,
   "metadata": {
    "collapsed": false
   },
   "outputs": [
    {
     "name": "stdout",
     "output_type": "stream",
     "text": [
      "train data shape: (4000, 93), train target shape: (4000,)\n",
      "test data shape: (1000, 93), test target shape: (1000,)\n"
     ]
    }
   ],
   "source": [
    "print (\"train data shape: %r, train target shape: %r\"\n",
    "      %(X_train.shape, y_train.shape))\n",
    "\n",
    "print (\"test data shape: %r, test target shape: %r\"\n",
    "      %(X_test.shape, y_test.shape))"
   ]
  },
  {
   "cell_type": "code",
   "execution_count": 12,
   "metadata": {
    "collapsed": false
   },
   "outputs": [
    {
     "data": {
      "text/plain": [
       "0.86399999999999999"
      ]
     },
     "execution_count": 12,
     "metadata": {},
     "output_type": "execute_result"
    }
   ],
   "source": [
    "svc = SVC().fit(X_train, y_train)\n",
    "train_score = svc.score(X_train, y_train)\n",
    "train_score"
   ]
  },
  {
   "cell_type": "code",
   "execution_count": 13,
   "metadata": {
    "collapsed": false
   },
   "outputs": [
    {
     "data": {
      "text/plain": [
       "0.71699999999999997"
      ]
     },
     "execution_count": 13,
     "metadata": {},
     "output_type": "execute_result"
    }
   ],
   "source": [
    "test_score = svc.score(X_test, y_test)\n",
    "test_score"
   ]
  },
  {
   "cell_type": "markdown",
   "metadata": {},
   "source": [
    "### The model is overfitting."
   ]
  },
  {
   "cell_type": "code",
   "execution_count": 14,
   "metadata": {
    "collapsed": false
   },
   "outputs": [
    {
     "data": {
      "text/plain": [
       "SVC(C=1.0, cache_size=200, class_weight=None, coef0=0.0, degree=3, gamma=0.0,\n",
       "  kernel='rbf', max_iter=-1, probability=False, random_state=None,\n",
       "  shrinking=True, tol=0.001, verbose=False)"
      ]
     },
     "execution_count": 14,
     "metadata": {},
     "output_type": "execute_result"
    }
   ],
   "source": [
    "svc"
   ]
  },
  {
   "cell_type": "code",
   "execution_count": 36,
   "metadata": {
    "collapsed": true
   },
   "outputs": [],
   "source": [
    "from sklearn.ensemble import RandomForestClassifier\n",
    "from sklearn.ensemble import ExtraTreesClassifier\n",
    "from sklearn.ensemble import GradientBoostingClassifier"
   ]
  },
  {
   "cell_type": "code",
   "execution_count": 57,
   "metadata": {
    "collapsed": true
   },
   "outputs": [],
   "source": [
    "X = otto_X_small.values\n",
    "y = otto_Y_small.values\n",
    "\n",
    "n_samples = X.shape[0]"
   ]
  },
  {
   "cell_type": "code",
   "execution_count": 42,
   "metadata": {
    "collapsed": false
   },
   "outputs": [
    {
     "name": "stdout",
     "output_type": "stream",
     "text": [
      "# Cross Validation Iteration #0\n",
      "train indices: [785 873  65 902 317 636 666 789 958 214]...\n",
      "test indices: [993 859 298 553 672 971  27 231 306 706]...\n",
      "train score: 1.000, test score: 0.730\n",
      "\n",
      "# Cross Validation Iteration #1\n",
      "train indices: [361 876 105 297 135 352 729  77 839   9]...\n",
      "test indices: [ 18 939 532 671 506 276 601 845 386 201]...\n",
      "train score: 1.000, test score: 0.720\n",
      "\n",
      "# Cross Validation Iteration #2\n",
      "train indices: [677 436 909 416  69 764 872 388  96 911]...\n",
      "test indices: [947 842 500 489 680 181 676  71  70 222]...\n",
      "train score: 1.000, test score: 0.670\n",
      "\n"
     ]
    }
   ],
   "source": [
    "from sklearn.cross_validation import ShuffleSplit\n",
    "\n",
    "cv = ShuffleSplit(n_samples, n_iter=3, test_size=0.1,\n",
    "    random_state=0)\n",
    "\n",
    "for cv_index, (train, test) in enumerate(cv):\n",
    "    print(\"# Cross Validation Iteration #%d\" % cv_index)\n",
    "    print(\"train indices: {0}...\".format(train[:10]))\n",
    "    print(\"test indices: {0}...\".format(test[:10]))\n",
    "    \n",
    "    svc = GradientBoostingClassifier(n_estimators=100, max_depth=5, max_features='auto').fit(X[train], y[train])\n",
    "    print(\"train score: {0:.3f}, test score: {1:.3f}\\n\".format(\n",
    "        svc.score(X[train], y[train]), svc.score(X[test], y[test])))"
   ]
  },
  {
   "cell_type": "code",
   "execution_count": 26,
   "metadata": {
    "collapsed": false
   },
   "outputs": [],
   "source": [
    "n_gammas = 3\n",
    "n_iter = 5\n",
    "cv = ShuffleSplit(n_samples, n_iter=n_iter, train_size=500, test_size=500,\n",
    "    random_state=0)\n",
    "\n",
    "train_scores = np.zeros((n_gammas, n_iter))\n",
    "test_scores = np.zeros((n_gammas, n_iter))\n",
    "gammas = np.logspace(1, 3, n_gammas)\n",
    "\n",
    "for i, gamma in enumerate(gammas):\n",
    "    for j, (train, test) in enumerate(cv):\n",
    "        clf = GradientBoostingClassifier(n_estimators=int(gamma)).fit(X[train], y[train])\n",
    "        train_scores[i, j] = clf.score(X[train], y[train])\n",
    "        test_scores[i, j] = clf.score(X[test], y[test])"
   ]
  },
  {
   "cell_type": "code",
   "execution_count": 27,
   "metadata": {
    "collapsed": false
   },
   "outputs": [
    {
     "data": {
      "image/png": "[encoded data removed]",
      "text/plain": [
       "<matplotlib.figure.Figure at 0x1fe20210>"
      ]
     },
     "metadata": {},
     "output_type": "display_data"
    }
   ],
   "source": [
    "def plot_validation_curves(param_values, train_scores, test_scores):\n",
    "    for i in range(train_scores.shape[1]):\n",
    "        plt.semilogx(param_values, train_scores[:, i], alpha=0.4, lw=2, c='b')\n",
    "        plt.semilogx(param_values, test_scores[:, i], alpha=0.4, lw=2, c='g')\n",
    "\n",
    "plot_validation_curves(gammas, train_scores, test_scores)\n",
    "plt.ylabel(\"score for ExtraTreesClassifier(n_estimators=gamma)\")\n",
    "plt.xlabel(\"gamma\")\n",
    "# plt.text(1e-6, 0.5, \"Underfitting\", fontsize=16, ha='center', va='bottom')\n",
    "# plt.text(1e-4, 0.5, \"Good\", fontsize=16, ha='center', va='bottom')\n",
    "# plt.text(1e-2, 0.5, \"Overfitting\", fontsize=16, ha='center', va='bottom')\n",
    "plt.title('Validation curves for the gamma parameter');"
   ]
  },
  {
   "cell_type": "markdown",
   "metadata": {},
   "source": [
    "### Learning curves"
   ]
  },
  {
   "cell_type": "code",
   "execution_count": 58,
   "metadata": {
    "collapsed": false
   },
   "outputs": [
    {
     "data": {
      "text/plain": [
       "array([ 100,  177,  316,  562, 1000])"
      ]
     },
     "execution_count": 58,
     "metadata": {},
     "output_type": "execute_result"
    }
   ],
   "source": [
    "train_sizes = np.logspace(2, 3, 5).astype(np.int)\n",
    "train_sizes"
   ]
  },
  {
   "cell_type": "code",
   "execution_count": 59,
   "metadata": {
    "collapsed": true
   },
   "outputs": [],
   "source": [
    "n_iter = 5\n",
    "train_scores = np.zeros((train_sizes.shape[0], n_iter), dtype=np.float)\n",
    "test_scores = np.zeros((train_sizes.shape[0], n_iter), dtype=np.float)"
   ]
  },
  {
   "cell_type": "code",
   "execution_count": 60,
   "metadata": {
    "collapsed": false
   },
   "outputs": [],
   "source": [
    "clf = GradientBoostingClassifier(n_estimators=100, max_depth=5)\n",
    "\n",
    "for i, train_size in enumerate(train_sizes):\n",
    "    cv = ShuffleSplit(n_samples, n_iter=n_iter, train_size=train_size)\n",
    "    for j, (train, test) in enumerate(cv):\n",
    "        clf.fit(X[train], y[train])\n",
    "        train_scores[i, j] = clf.score(X[train], y[train])\n",
    "        test_scores[i, j] = clf.score(X[test], y[test])"
   ]
  },
  {
   "cell_type": "code",
   "execution_count": 61,
   "metadata": {
    "collapsed": false
   },
   "outputs": [
    {
     "data": {
      "image/png": "[encoded data removed]",
      "text/plain": [
       "<matplotlib.figure.Figure at 0x1fab2b30>"
      ]
     },
     "metadata": {},
     "output_type": "display_data"
    }
   ],
   "source": [
    "from scipy.stats import sem\n",
    "\n",
    "mean_train = np.mean(train_scores, axis=1)\n",
    "confidence = sem(train_scores, axis=1) * 2\n",
    "\n",
    "plt.fill_between(train_sizes,\n",
    "                 mean_train - confidence,\n",
    "                 mean_train + confidence,\n",
    "                 color = 'b', alpha = .2)\n",
    "plt.plot(train_sizes, mean_train, 'o-k', c='b', label='Train score')\n",
    "\n",
    "mean_test = np.mean(test_scores, axis=1)\n",
    "confidence = sem(test_scores, axis=1) * 2\n",
    "\n",
    "plt.fill_between(train_sizes,\n",
    "                 mean_test - confidence,\n",
    "                 mean_test + confidence,\n",
    "                 color = 'g', alpha = .2)\n",
    "plt.plot(train_sizes, mean_test, 'o-k', c='g', label='Test score')\n",
    "\n",
    "plt.xlabel('Training set size')\n",
    "plt.ylabel('Score')\n",
    "plt.xlim(0, X.shape[0])\n",
    "plt.ylim((None, 1.01))  # The best possible score is 1.0\n",
    "plt.legend(loc='best')\n",
    "\n",
    "# plt.text(250, 0.9, \"Overfitting a lot\", fontsize=16, ha='center', va='bottom')\n",
    "# plt.text(800, 0.9, \"Overfitting a little\", fontsize=16, ha='center', va='bottom')\n",
    "plt.title('Main train and test scores +/- 2 standard errors');"
   ]
  },
  {
   "cell_type": "code",
   "execution_count": null,
   "metadata": {
    "collapsed": true
   },
   "outputs": [],
   "source": []
  },
  {
   "cell_type": "code",
   "execution_count": null,
   "metadata": {
    "collapsed": true
   },
   "outputs": [],
   "source": []
  },
  {
   "cell_type": "code",
   "execution_count": null,
   "metadata": {
    "collapsed": true
   },
   "outputs": [],
   "source": []
  },
  {
   "cell_type": "code",
   "execution_count": null,
   "metadata": {
    "collapsed": true
   },
   "outputs": [],
   "source": []
  },
  {
   "cell_type": "code",
   "execution_count": null,
   "metadata": {
    "collapsed": true
   },
   "outputs": [],
   "source": []
  },
  {
   "cell_type": "code",
   "execution_count": null,
   "metadata": {
    "collapsed": true
   },
   "outputs": [],
   "source": []
  }
 ],
 "metadata": {
  "kernelspec": {
   "display_name": "Python 2",
   "language": "python",
   "name": "python2"
  },
  "language_info": {
   "codemirror_mode": {
    "name": "ipython",
    "version": 2
   },
   "file_extension": ".py",
   "mimetype": "text/x-python",
   "name": "python",
   "nbconvert_exporter": "python",
   "pygments_lexer": "ipython2",
   "version": "2.7.6"
  }
 },
 "nbformat": 4,
 "nbformat_minor": 0
}
