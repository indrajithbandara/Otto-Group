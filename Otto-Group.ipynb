{
 "metadata": {
  "name": "",
  "signature": "sha256:ed71eb0febae494d691eeb96378fe910baa937cadcac1a1501e1d2d4353ac127"
 },
 "nbformat": 3,
 "nbformat_minor": 0,
 "worksheets": [
  {
   "cells": [
    {
     "cell_type": "code",
     "collapsed": false,
     "input": [
      "# Import libraries\n",
      "import pandas as pd\n",
      "import numpy as np\n",
      "\n",
      "#tell pandas to display wide tables as pretty HTML tables\n",
      "pd.set_option('display.width', 500)\n",
      "pd.set_option('display.max_columns', 100)\n",
      "\n",
      "%matplotlib inline\n",
      "\n",
      "import matplotlib.pyplot as plt\n",
      "\n",
      "def remove_border(axes=None, top=False, right=False, left=True, bottom=True):\n",
      "    \"\"\"\n",
      "    Minimize chartjunk by stripping out unnecesasry plot borders and axis ticks\n",
      "    \n",
      "    The top/right/left/bottom keywords toggle whether the corresponding plot border is drawn\n",
      "    \"\"\"\n",
      "    ax = axes or plt.gca()\n",
      "    ax.spines['top'].set_visible(top)\n",
      "    ax.spines['right'].set_visible(right)\n",
      "    ax.spines['left'].set_visible(left)\n",
      "    ax.spines['bottom'].set_visible(bottom)\n",
      "    \n",
      "    #turn off all ticks\n",
      "    ax.yaxis.set_ticks_position('none')\n",
      "    ax.xaxis.set_ticks_position('none')\n",
      "    \n",
      "    #now re-enable visibles\n",
      "    if top:\n",
      "        ax.xaxis.tick_top()\n",
      "    if bottom:\n",
      "        ax.xaxis.tick_bottom()\n",
      "    if left:\n",
      "        ax.yaxis.tick_left()\n",
      "    if right:\n",
      "        ax.yaxis.tick_right()"
     ],
     "language": "python",
     "metadata": {},
     "outputs": [],
     "prompt_number": 1
    },
    {
     "cell_type": "code",
     "collapsed": false,
     "input": [
      "def load_training_data(src):\n",
      "    \"Loads the training data from source (src)\"\n",
      "    return pd.read_csv(src, index_col='id')\n",
      "\n",
      "def load_test_data(src):\n",
      "    \"Loads the testing data from source (src)\"\n",
      "    return pd.read_csv(src, index_col='id')\n",
      "\n",
      "def load_sample_submission(src):\n",
      "    \"Loads the sample submission from source\"\n",
      "    return pd.read_csv(src)"
     ],
     "language": "python",
     "metadata": {},
     "outputs": [],
     "prompt_number": 2
    },
    {
     "cell_type": "code",
     "collapsed": false,
     "input": [
      "def shuffleData(df):\n",
      "    \"Shuffles the dataframe\"\n",
      "    return df.reindex(permutation(df.index))\n",
      "\n",
      "def encode_labels(target):\n",
      "    \"Encodes labels with value between 0 and n - 1.\"\n",
      "    from sklearn.preprocessing import LabelEncoder\n",
      "\n",
      "    lbl_encoder = LabelEncoder()\n",
      "    return lbl_encoder.fit_transform(target.values)"
     ],
     "language": "python",
     "metadata": {},
     "outputs": [],
     "prompt_number": 3
    },
    {
     "cell_type": "code",
     "collapsed": false,
     "input": [
      "def getX(df):\n",
      "    \"Return data with columns except target\"\n",
      "    return df[df.columns[:-1]]\n",
      "\n",
      "def getTarget(df):\n",
      "    \"Returns target variable\"\n",
      "    return df.target"
     ],
     "language": "python",
     "metadata": {},
     "outputs": [],
     "prompt_number": 4
    },
    {
     "cell_type": "code",
     "collapsed": false,
     "input": [
      "def getClassDistribution(df):\n",
      "    \"Prints the class distribution for data\"\n",
      "    print 'Class Distribution is \\n', df.target.value_counts()"
     ],
     "language": "python",
     "metadata": {},
     "outputs": [],
     "prompt_number": 5
    },
    {
     "cell_type": "code",
     "collapsed": false,
     "input": [
      "# Feature Extraction\n",
      "def tfIdf(X_train, X_test, sublinear_tf=False):\n",
      "    \"Transform a count matrix to a normalized tf or tf-idf representation\"\n",
      "    from sklearn.feature_extraction.text import TfidfTransformer\n",
      "    tfidf = TfidfTransformer(sublinear_tf=sublinear_tf)\n",
      "    X_train = tfidf.fit_transform(X_train)\n",
      "    X_test = tfidf.transform(X_test)\n",
      "    \n",
      "    return (X_train, X_test)"
     ],
     "language": "python",
     "metadata": {},
     "outputs": [],
     "prompt_number": 6
    },
    {
     "cell_type": "code",
     "collapsed": false,
     "input": [
      "# Preprocessing\n",
      "def standardScaling(X_train, X_test, with_mean=False):\n",
      "    from sklearn.preprocessing import StandardScaler\n",
      "    \n",
      "    std_scaler = StandardScaler(with_mean=with_mean)\n",
      "    X_train = std_scaler.fit_transform(X_train)\n",
      "    X_test = std_scaler.transform(X_test)\n",
      "    return (X_train, X_test)"
     ],
     "language": "python",
     "metadata": {},
     "outputs": [],
     "prompt_number": 7
    },
    {
     "cell_type": "code",
     "collapsed": false,
     "input": [
      "#decomposition\n",
      "def pca(X_train, X_test, n_components=2, whiten=False):\n",
      "    from sklearn.decomposition import PCA\n",
      "    pca_ = PCA(n_components=n_components, whiten=whiten)\n",
      "    X_train = pca_.fit_transform(X_train)\n",
      "    X_test = pca_.transform(X_test)\n",
      "    return X_train, X_test\n",
      "\n",
      "def MiniBatchKMeans(X_train, X_test, num_classes=9):\n",
      "    \"Transforms X to cluster distance space\"\n",
      "    from sklearn.cluster import MiniBatchKMeans\n",
      "    clf = MiniBatchKMeans(init='k-means++', n_clusters=num_classes)\n",
      "    X_train = clf.fit_transform(X_train)\n",
      "    X_test = clf.transform(X_test)\n",
      "    return X_train, X_test\n",
      "\n",
      "def KMeans(X_train, X_test, num_classes=9):\n",
      "    from sklearn.cluster import KMeans\n",
      "    clf = KMeans(init='k-means++', n_clusters=num_classes)\n",
      "    X_train = clf.fit_transform(X_train)\n",
      "    X_test = clf.transform(X_test)\n",
      "    return X_train, X_test"
     ],
     "language": "python",
     "metadata": {},
     "outputs": [],
     "prompt_number": 8
    },
    {
     "cell_type": "code",
     "collapsed": false,
     "input": [
      "# Feature Selection\n",
      "def rfe(clf, X_train, y_train, X_test, n_features=None):\n",
      "    \"Removes all features whose variance doesn\u2019t meet some threshold\"\n",
      "    from sklearn.feature_selection import RFE\n",
      "    sel = RFE(clf)\n",
      "    X_train = sel.fit_transform(X_train, y_train)\n",
      "    X_test = sel.transfomr(X_test)\n",
      "    return X_train, X_test"
     ],
     "language": "python",
     "metadata": {},
     "outputs": [],
     "prompt_number": 9
    },
    {
     "cell_type": "code",
     "collapsed": false,
     "input": [
      "# Cross validation\n",
      "def train_test_split(X, y):\n",
      "    from sklearn.cross_validation import train_test_split\n",
      "    X_train, X_test, y_train, y_test = train_test_split(X, y, test_size=0.2, random_state=27)\n",
      "    return (X_train, X_test, y_train, y_test)\n",
      "\n",
      "def cross_validate(clf, X, y, cv=5, scoring='log_loss'):\n",
      "    from sklearn.cross_validation import cross_val_score\n",
      "    return cross_val_score(clf, X, y, cv=cv, scoring=scoring)"
     ],
     "language": "python",
     "metadata": {},
     "outputs": [],
     "prompt_number": 10
    },
    {
     "cell_type": "code",
     "collapsed": false,
     "input": [
      "# Models\n",
      "def randomForestClassifier(n_estimators=100):\n",
      "    \"Returns estimator for Random Forest Classifier\"\n",
      "    from sklearn.ensemble import RandomForestClassifier\n",
      "    clf = RandomForestClassifier(n_estimators=n_estimators, n_jobs=-1)\n",
      "    return clf\n",
      "\n",
      "def adaBoostClassifier(clf_base, X, y, n_estimators=4):\n",
      "    from sklearn.ensemble import AdaBoostClassifier\n",
      "    ada = AdaBoostClassifier(clf_base, n_estimators=n_estimators, random_state=93)\n",
      "    ada.fit(X, y)\n",
      "    return ada"
     ],
     "language": "python",
     "metadata": {},
     "outputs": [],
     "prompt_number": 11
    },
    {
     "cell_type": "code",
     "collapsed": false,
     "input": [
      "# Scoring function\n",
      "def logloss(y_true, y_pred):\n",
      "    \"Returns log loss\"\n",
      "    from sklearn.metrics import log_loss\n",
      "    return log_loss(y_true, y_pred)"
     ],
     "language": "python",
     "metadata": {},
     "outputs": [],
     "prompt_number": 12
    },
    {
     "cell_type": "code",
     "collapsed": false,
     "input": [
      "# Confusion Matrix\n",
      "def confusion_matrix(y_true, y_pred):\n",
      "    from sklearn.metrics import confusion_matrix\n",
      "    return confusion_matrix(y_true, y_pred)"
     ],
     "language": "python",
     "metadata": {},
     "outputs": [],
     "prompt_number": 13
    },
    {
     "cell_type": "code",
     "collapsed": false,
     "input": [
      "# Utility function to get subset of data\n",
      "def data_subset(X, y, num_samples):\n",
      "    return X[:num_samples], y[:num_samples]"
     ],
     "language": "python",
     "metadata": {},
     "outputs": [],
     "prompt_number": 14
    },
    {
     "cell_type": "code",
     "collapsed": false,
     "input": [
      "def main():\n",
      "    # load training data\n",
      "    train = load_training_data('./train.csv/train.csv')\n",
      "    \n",
      "    # load test data\n",
      "    test = load_test_data('./test.csv/test.csv')\n",
      "    \n",
      "    # shuffle training data\n",
      "    train = shuffleData(train)\n",
      "    \n",
      "    # Get training and target variables\n",
      "    X = getX(train)\n",
      "    target = getTarget(train)\n",
      "    \n",
      "    # Encode target labels\n",
      "    target = encode_labels(target)\n",
      "    \n",
      "    # Feature extraction (sublinear_tf = False)\n",
      "    X, Xt = tfIdf(X, test)\n",
      "    \n",
      "    # Standard Scaling of the data\n",
      "    X, Xt = standardScaling(X, Xt)\n",
      "    \n",
      "    # Decomposition of the data (num_components = mle and whiten = True)\n",
      "    X, Xt = pca(X.toarray(), Xt.toarray(), 'mle', True)\n",
      "    \n",
      "    # Split data into training and test set\n",
      "    X_train, X_test, y_train, y_test = train_test_split(X, target)\n",
      "    \n",
      "    # Subset of the training data since my machine is so ancient it takes enormous amount of time :(\n",
      "    X_train_sub, y_train_sub = data_subset(X_train, y_train, 5000)\n",
      "    X_test_sub, y_test_sub = data_subset(X_test, y_test, 1000)\n",
      "    \n",
      "    # Feature Selection\n",
      "    from sklearn.svm import SVR\n",
      "    estimator = SVR(kernel='linear')\n",
      "    X_train_sub, X_test_sub = rfe(estimator, X_train_sub, y_train_sub, X_test_sub)\n",
      "    \n",
      "    # Train a Random Forest Classifier with n_estimators=100\n",
      "    clf = randomForestClassifier()\n",
      "    \n",
      "    # cross validation\n",
      "    scores = cross_validate(clf, X_train_sub, y_train_sub)\n",
      "    print scores"
     ],
     "language": "python",
     "metadata": {},
     "outputs": [],
     "prompt_number": 28
    },
    {
     "cell_type": "code",
     "collapsed": false,
     "input": [
      "main()"
     ],
     "language": "python",
     "metadata": {},
     "outputs": []
    },
    {
     "cell_type": "code",
     "collapsed": false,
     "input": [
      "def visualize():\n",
      "    train = load_training_data('./train.csv/train.csv')\n",
      "    test = load_test_data('./test.csv/test.csv')\n",
      "    \n",
      "    train = shuffleData(train)\n",
      "    \n",
      "    X = getX(train)\n",
      "    y = getTarget(train)\n",
      "    \n",
      "    y = encode_labels(y)\n",
      "    \n",
      "    X, Xt = tfIdf(X, test)\n",
      "    \n",
      "    # Standard Scaling of the data\n",
      "    X, Xt = standardScaling(X, Xt)\n",
      "    \n",
      "    # Decomposition of the data (num_components = mle and whiten = True)\n",
      "    X, Xt = pca(X.toarray(), Xt.toarray(), 2, True)\n",
      "    \n",
      "    # subset data\n",
      "    X_sub, y_sub = data_subset(X, y, 10000)\n",
      "    \n",
      "    df = pd.DataFrame({ 'x': X_sub[:, 0], 'y': X_sub[:, 1], 'label': y_sub})\n",
      "    colors = ['red', 'green', 'blue', 'black', 'brown', 'pink', 'cyan', 'orange', 'yellow']\n",
      "    \n",
      "    for label, color in zip(df['label'].unique(), colors):\n",
      "        mask = df['label'] == label\n",
      "        plt.scatter(df[mask]['x'], df[mask]['y'], c=color, label=label)\n",
      "    \n",
      "    plt.legend(loc='upper left')\n",
      "    remove_border()"
     ],
     "language": "python",
     "metadata": {},
     "outputs": [],
     "prompt_number": 27
    },
    {
     "cell_type": "code",
     "collapsed": false,
     "input": [
      "visualize()"
     ],
     "language": "python",
     "metadata": {},
     "outputs": [
      {
       "metadata": {},
       "output_type": "display_data",
       "png": "[encoded data removed]",
       "text": [
        "<matplotlib.figure.Figure at 0xca3cdf0>"
       ]
      }
     ],
     "prompt_number": 28
    },
    {
     "cell_type": "code",
     "collapsed": false,
     "input": [],
     "language": "python",
     "metadata": {},
     "outputs": []
    }
   ],
   "metadata": {}
  }
 ]
}